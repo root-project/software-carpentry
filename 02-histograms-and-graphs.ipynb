{
 "cells": [
  {
   "cell_type": "markdown",
   "metadata": {},
   "source": [
    "# ROOT Basic Tools: histograms and graphs"
   ]
  },
  {
   "cell_type": "markdown",
   "id": "22001718",
   "metadata": {
    "slideshow": {
     "slide_type": "slide"
    }
   },
   "source": [
    "# ROOT histograms\n",
    "\n",
    "[Histogram class documentation](https://root.cern.ch/doc/master/classTH1.html)\n",
    "\n",
    "ROOT has powerful histogram objects that, among other features, let you produce complex plots and perform fits of arbitrary functions.\n",
    "\n",
    "Below is an example histogram that can be obtained using one of our tutorials: [Higgs to Four Leptons](https://root.cern/doc/master/df106__HiggsToFourLeptons_8py.html). \n",
    "\n",
    "`TH1D` is a 1D histogram with floating point double precision y-axis, `TH2I` is a 2D histogram with Integer y-axis, etc.\n",
    "\n",
    "<center><img src=\"images/examplehist_df106_HiggsToFourLeptons.png\"><center>"
   ]
  },
  {
   "cell_type": "markdown",
   "id": "2f9a761e",
   "metadata": {
    "slideshow": {
     "slide_type": "slide"
    }
   },
   "source": [
    "To have something to play with, let's quickly fill a histogram with 5000 normally distributed values:"
   ]
  },
  {
   "cell_type": "code",
   "execution_count": null,
   "id": "88e3869e",
   "metadata": {
    "scrolled": true,
    "slideshow": {
     "slide_type": "fragment"
    }
   },
   "outputs": [],
   "source": [
    "import ROOT\n",
    "h = ROOT.TH1D(name=\"h\", title=\"My histo\", nbinsx=100, xlow=-5, xup=5)\n",
    "\n",
    "\n",
    "h.FillRandom(\"gaus\", ntimes=5000)"
   ]
  },
  {
   "cell_type": "markdown",
   "id": "9b4f749c",
   "metadata": {
    "slideshow": {
     "slide_type": "fragment"
    }
   },
   "source": [
    "To check the full documentation you can always refer to https://root.cern/doc/master (and then switch to the documentation for your particular ROOT version with the drop-down menu at the top of the page)."
   ]
  },
  {
   "cell_type": "markdown",
   "id": "49765d80",
   "metadata": {
    "slideshow": {
     "slide_type": "slide"
    }
   },
   "source": [
    "## Drawing a histogram"
   ]
  },
  {
   "cell_type": "markdown",
   "id": "2cff5d92",
   "metadata": {
    "slideshow": {
     "slide_type": "fragment"
    }
   },
   "source": [
    "[Drawing options documentation](https://root.cern.ch/doc/master/classTHistPainter.html)\n",
    "\n",
    "The link above contains the documentation for the histogram drawing options.\n",
    "\n",
    "In a notebook, we want to use the `%jsroot on` magic and explicitly draw a `TCanvas`."
   ]
  },
  {
   "cell_type": "code",
   "execution_count": null,
   "id": "35754314",
   "metadata": {
    "slideshow": {
     "slide_type": "slide"
    }
   },
   "outputs": [],
   "source": [
    "%jsroot on\n",
    "c = ROOT.TCanvas()\n",
    "#h.SetLineColor(ROOT.kBlue)\n",
    "#h.SetFillColor(ROOT.kBlue)\n",
    "#h.GetXaxis().SetTitle(\"value\")\n",
    "#h.GetYaxis().SetTitle(\"count\")\n",
    "#h.SetTitle(\"My histo with latex: p_{t}, #eta, #phi\")\n",
    "h.Draw() # draw the histogram on the canvas\n",
    "c.Draw() # draw the canvas on the screen"
   ]
  },
  {
   "cell_type": "markdown",
   "id": "d4e28064",
   "metadata": {
    "slideshow": {
     "slide_type": "slide"
    }
   },
   "source": [
    "# ROOT functions"
   ]
  },
  {
   "cell_type": "markdown",
   "id": "52f1ab7e",
   "metadata": {
    "slideshow": {
     "slide_type": "fragment"
    }
   },
   "source": [
    "The type that represents an arbitrary one-dimensional mathematical function in ROOT is [TF1](https://root.cern.ch/doc/master/classTF1.html).<br>\n",
    "Similarly, [TF2](https://root.cern.ch/doc/master/classTF2.html) and [TF3](https://root.cern.ch/doc/master/classTF3.html) represent 2-dimensional and 3-dimensional functions.\n",
    "\n",
    "As an example, let's define and plot a simple surface:"
   ]
  },
  {
   "cell_type": "code",
   "execution_count": null,
   "id": "5b530644",
   "metadata": {
    "slideshow": {
     "slide_type": "slide"
    }
   },
   "outputs": [],
   "source": [
    "f2 = ROOT.TF2(\"f2\", \"sin(x*x - y*y)\", xmin=-2, xmax=2, ymin=-2, ymax=2)"
   ]
  },
  {
   "cell_type": "code",
   "execution_count": null,
   "id": "f8e3712f",
   "metadata": {
    "slideshow": {
     "slide_type": "fragment"
    }
   },
   "outputs": [],
   "source": [
    "c = ROOT.TCanvas()\n",
    "f2.Draw(\"surf1\") # to get a surface instead of the default contour plot\n",
    "c.Draw()"
   ]
  },
  {
   "cell_type": "markdown",
   "id": "b1bc811f",
   "metadata": {
    "slideshow": {
     "slide_type": "slide"
    }
   },
   "source": [
    "## Fitting a histogram"
   ]
  },
  {
   "cell_type": "markdown",
   "id": "b3e8fb66",
   "metadata": {
    "slideshow": {
     "slide_type": "fragment"
    }
   },
   "source": [
    "Let's see how to perform simple histogram fits of arbitrary functions. We will need a `TF1` that represents the function we want to use for the fit.\n",
    "\n",
    "This time we define our `TF1` as a C++ function (note the usage of the `%%cpp` magic to define some C++ inline). Here we define a simple gaussian with scale and mean parameters (`par[0]` and `par[1]` respectively):"
   ]
  },
  {
   "cell_type": "code",
   "execution_count": null,
   "id": "cc620044",
   "metadata": {
    "slideshow": {
     "slide_type": "fragment"
    }
   },
   "outputs": [],
   "source": [
    "%%cpp\n",
    "\n",
    "double gaussian(double *x, double *par) {\n",
    "    return par[0]*TMath::Exp(-TMath::Power(x[0] - par[1], 2.) / 2.)\n",
    "           / TMath::Sqrt(2 * TMath::Pi());\n",
    "}"
   ]
  },
  {
   "cell_type": "markdown",
   "id": "1b3f9a09",
   "metadata": {
    "slideshow": {
     "slide_type": "slide"
    }
   },
   "source": [
    "The function signature, that takes an array of coordinates and an array of parameters as inputs, is the generic signature of functions that can be used to construct a `TF1` object:"
   ]
  },
  {
   "cell_type": "code",
   "execution_count": null,
   "id": "0d68fef2",
   "metadata": {
    "slideshow": {
     "slide_type": "fragment"
    }
   },
   "outputs": [],
   "source": [
    "fitFunc = ROOT.TF1(\"fitFunc\", ROOT.gaussian, xmin=-5, xmax=5, npar=2)"
   ]
  },
  {
   "cell_type": "markdown",
   "id": "7b73a168",
   "metadata": {
    "slideshow": {
     "slide_type": "fragment"
    }
   },
   "source": [
    "Now we fit our `h` histogram with `fitFunc`:"
   ]
  },
  {
   "cell_type": "code",
   "execution_count": null,
   "id": "5bc200c2",
   "metadata": {
    "slideshow": {
     "slide_type": "fragment"
    }
   },
   "outputs": [],
   "source": [
    "res = h.Fit(fitFunc, \"S\") # the \"S\" option makes the function return a fit result object"
   ]
  },
  {
   "cell_type": "markdown",
   "id": "7ea8cdcc",
   "metadata": {
    "slideshow": {
     "slide_type": "slide"
    }
   },
   "source": [
    "Drawing the histogram now automatically also shows the fitted function:"
   ]
  },
  {
   "cell_type": "code",
   "execution_count": null,
   "id": "b6e505d5",
   "metadata": {
    "scrolled": false,
    "slideshow": {
     "slide_type": "fragment"
    }
   },
   "outputs": [],
   "source": [
    "c2 = ROOT.TCanvas()\n",
    "h.Draw()\n",
    "c2.Draw()"
   ]
  },
  {
   "cell_type": "markdown",
   "id": "ab7356f9",
   "metadata": {
    "slideshow": {
     "slide_type": "slide"
    }
   },
   "source": [
    "For the particular case of a gaussian fit, we could also have used the built-in `\"gaus\"` function, as we did when we called `FillRandom` (for the full list of supported expressions see [here](https://root.cern/doc/master/classTFormula.html)):"
   ]
  },
  {
   "cell_type": "code",
   "execution_count": null,
   "id": "c7ebfd04",
   "metadata": {
    "slideshow": {
     "slide_type": "fragment"
    }
   },
   "outputs": [],
   "source": [
    "res = h.Fit(\"gaus\", \"S\")"
   ]
  },
  {
   "cell_type": "code",
   "execution_count": null,
   "id": "65f095cd",
   "metadata": {
    "slideshow": {
     "slide_type": "slide"
    }
   },
   "outputs": [],
   "source": [
    "c3 = ROOT.TCanvas()\n",
    "h.Draw()\n",
    "c3.Draw()"
   ]
  },
  {
   "cell_type": "markdown",
   "id": "33f51c9d",
   "metadata": {
    "slideshow": {
     "slide_type": "slide"
    }
   },
   "source": [
    "For more complex binned and unbinned likelihood fits, check out [RooFit](https://root.cern.ch/download/doc/RooFit_Users_Manual_2.91-33.pdf), a powerful data modelling framework integrated in ROOT."
   ]
  },
  {
   "cell_type": "markdown",
   "id": "2fdcbfd3",
   "metadata": {
    "slideshow": {
     "slide_type": "slide"
    }
   },
   "source": [
    "## ROOT graphs\n",
    "\n",
    "[TGraph](https://root.cern/doc/master/classTGraph.html) is a type useful for scatter plots.\n",
    "\n",
    "Their drawing options are documented [here](https://root.cern/doc/master/classTGraphPainter.html).\n",
    "\n",
    "Like for histograms, the aspect of `TGraph`s can be greatly customized, they can be fitted with custom functions, etc. "
   ]
  },
  {
   "cell_type": "code",
   "execution_count": null,
   "id": "acc0e4a6",
   "metadata": {
    "scrolled": false,
    "slideshow": {
     "slide_type": "slide"
    }
   },
   "outputs": [],
   "source": [
    "g = ROOT.TGraph()\n",
    "\n",
    "for x in range(-20, 21):\n",
    "    y = -x*x\n",
    "    g.AddPoint(x, y)\n",
    "\n",
    "c4 = ROOT.TCanvas()\n",
    "g.SetMarkerStyle(7)\n",
    "g.SetLineColor(ROOT.kBlue)\n",
    "g.SetTitle(\"My graph\")\n",
    "g.Draw()\n",
    "c4.Draw()"
   ]
  },
  {
   "cell_type": "markdown",
   "id": "70b3e469",
   "metadata": {
    "slideshow": {
     "slide_type": "slide"
    }
   },
   "source": [
    "The same graph can be displayed as a bar plot:"
   ]
  },
  {
   "cell_type": "code",
   "execution_count": null,
   "id": "317a855a",
   "metadata": {
    "slideshow": {
     "slide_type": "fragment"
    }
   },
   "outputs": [],
   "source": [
    "c5 = ROOT.TCanvas()\n",
    "g.SetTitle(\"My graph\")\n",
    "g.SetFillColor(ROOT.kOrange + 1) # base colors can be tweaked by adding/subtracting values to them \n",
    "g.Draw(\"AB1\")\n",
    "c5.Draw()"
   ]
  },
  {
   "cell_type": "markdown",
   "id": "f2460215",
   "metadata": {
    "slideshow": {
     "slide_type": "slide"
    }
   },
   "source": [
    "### Plot example: histogram stack\n",
    "\n",
    "In HEP, we often plot stacked histograms, for example to show the\n",
    "contributions of different processes. This can be done with [THStack](https://root.cern.ch/doc/master/classTHStack.html)."
   ]
  },
  {
   "cell_type": "code",
   "execution_count": null,
   "id": "4f6b9843",
   "metadata": {
    "slideshow": {
     "slide_type": "-"
    }
   },
   "outputs": [],
   "source": [
    "f1 = ROOT.TF1(\"f1\", \"gaus\", -4.0, 4.0)\n",
    "\n",
    "histos = [ROOT.TH1D(f\"h{i}\", \"x\", 64, -4.0, 4.0) for i in range(3)]\n",
    "\n",
    "hs = ROOT.THStack(\"hs\",\"\")\n",
    "hs.SetTitle(\";x;Events\")\n",
    "\n",
    "colors = [46, 30, 38]\n",
    "        \n",
    "for i in range(len(histos)):\n",
    "    h = histos[i]\n",
    "    f1.SetParameters(1.0, i - 1, 1.0)\n",
    "    h.FillRandom(\"f1\", 100000)\n",
    "    h.SetFillColor(colors[i])\n",
    "    hs.Add(h)\n",
    "\n",
    "c6 = ROOT.TCanvas()\n",
    "hs.Draw()\n",
    "c6.Draw()"
   ]
  },
  {
   "cell_type": "markdown",
   "id": "22ad4ed4",
   "metadata": {
    "slideshow": {
     "slide_type": "slide"
    }
   },
   "source": [
    "### Plot example: efficiency curves\n",
    "\n",
    "Another common workflow is to draw efficiency curves with [TEfficiency](https://root.cern.ch/doc/master/classTEfficiency.html), which also gives uncertainties."
   ]
  },
  {
   "cell_type": "code",
   "execution_count": null,
   "id": "319a70b7",
   "metadata": {},
   "outputs": [],
   "source": [
    "h_pass = ROOT.TH1D(\"h_pass\", \"My histogram\", 50, 0, 100.0)\n",
    "h_total = ROOT.TH1D(\"h_total\", \"My histogram\", 50, 0, 100.0)\n",
    "\n",
    "f_gaus = ROOT.TF1(\"f_gaus\", \"gaus\", 0, 100.0)\n",
    "\n",
    "f_gaus.SetParameters(1.0, 56.0, 20.0)\n",
    "h_pass.FillRandom(\"f_gaus\", 40000)\n",
    "h_pass.SetLineColor(ROOT.kRed)\n",
    "f_gaus.SetParameters(1.0, 50.0, 20.0)\n",
    "h_total.FillRandom(\"f_gaus\", 100000)"
   ]
  },
  {
   "cell_type": "code",
   "execution_count": null,
   "id": "ac34e721",
   "metadata": {
    "slideshow": {
     "slide_type": "fragment"
    }
   },
   "outputs": [],
   "source": [
    "teff = ROOT.TEfficiency(h_pass,h_total)\n",
    "\n",
    "c7 = ROOT.TCanvas(\"rf101_basics\", \"rf101_basics\", 800, 400)\n",
    "c7.Divide(2)\n",
    "c7.cd(1)\n",
    "h_total.Draw()\n",
    "h_pass.Draw(\"SAME\")\n",
    "c7.cd(2)\n",
    "teff.Draw()\n",
    "c7.Draw()"
   ]
  }
 ],
 "metadata": {
  "celltoolbar": "Slideshow",
  "kernelspec": {
   "display_name": "Python 3 (ipykernel)",
   "language": "python",
   "name": "python3"
  },
  "language_info": {
   "codemirror_mode": {
    "name": "ipython",
    "version": 3
   },
   "file_extension": ".py",
   "mimetype": "text/x-python",
   "name": "python",
   "nbconvert_exporter": "python",
   "pygments_lexer": "ipython3",
   "version": "3.10.7"
  }
 },
 "nbformat": 4,
 "nbformat_minor": 5
}
